{
 "cells": [
  {
   "cell_type": "code",
   "execution_count": null,
   "id": "a9945477",
   "metadata": {},
   "outputs": [],
   "source": [
    "import pandas as pd\n",
    "import os\n",
    "import shutil\n",
    "import sys\n",
    "\n",
    "# 인수로 몇 개만 처리할지 입력\n",
    "\n",
    "NUM_TO_PROCESS = 4\n",
    "\n",
    "# 경로 설정\n",
    "csv_path = \"/mnt/Code/Data/CSV/Final_combined_sample_ids.csv\"\n",
    "src_root = \"/mnt/Code/Data/manifest_svs_gene_counts\"\n",
    "dst_root = \"/mnt/Code/Data/SAMPLE\"\n",
    "\n",
    "# CSV 읽기\n",
    "df = pd.read_csv(csv_path)\n",
    "\n",
    "# 상위 N개 행 선택\n",
    "df_subset = df.head(NUM_TO_PROCESS)\n",
    "\n",
    "for idx, row in df_subset.iterrows():\n",
    "    file_uuid = row[\"FILE_UUID\"]\n",
    "    file_name = row[\"FILE_NAME\"]\n",
    "    sample_uuid = row[\"SAMPLE_UUID\"]\n",
    "\n",
    "    src_path = os.path.join(src_root, file_uuid, file_name)\n",
    "    dst_dir = os.path.join(dst_root, sample_uuid)\n",
    "    dst_path = os.path.join(dst_dir, file_name)\n",
    "\n",
    "    # 대상 폴더 생성\n",
    "    os.makedirs(dst_dir, exist_ok=True)\n",
    "\n",
    "    if os.path.exists(src_path):\n",
    "        print(f\"[{idx}] 이동 중: {src_path} → {dst_path}\")\n",
    "        shutil.copy2(src_path, dst_path)\n",
    "    else:\n",
    "        print(f\"[{idx}] 파일 없음: {src_path}\")\n",
    "\n",
    "print(\"작업 완료!\")\n"
   ]
  }
 ],
 "metadata": {
  "language_info": {
   "name": "python"
  }
 },
 "nbformat": 4,
 "nbformat_minor": 5
}
